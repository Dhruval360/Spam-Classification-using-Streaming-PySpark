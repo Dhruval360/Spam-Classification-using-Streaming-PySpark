{
 "cells": [
  {
   "cell_type": "code",
   "execution_count": 31,
   "metadata": {},
   "outputs": [],
   "source": [
    "import pandas as pd\n",
    "import numpy as np \n",
    "from sklearn.datasets import load_files\n",
    "\n",
    "# Text cleaning and preprocessing\n",
    "import re\n",
    "import nltk\n",
    "from nltk.corpus import stopwords\n",
    "from nltk.stem.porter import PorterStemmer\n",
    "from nltk.stem import WordNetLemmatizer\n",
    "\n",
    "from tqdm.notebook import tqdm"
   ]
  },
  {
   "cell_type": "code",
   "execution_count": 32,
   "metadata": {},
   "outputs": [
    {
     "data": {
      "text/plain": [
       "(30344, 3)"
      ]
     },
     "execution_count": 32,
     "metadata": {},
     "output_type": "execute_result"
    }
   ],
   "source": [
    "df = pd.read_csv(\"./spam/train.csv\")\n",
    "df.shape"
   ]
  },
  {
   "cell_type": "code",
   "execution_count": 33,
   "metadata": {},
   "outputs": [
    {
     "data": {
      "text/plain": [
       "60.688"
      ]
     },
     "execution_count": 33,
     "metadata": {},
     "output_type": "execute_result"
    }
   ],
   "source": [
    "30344/500"
   ]
  },
  {
   "cell_type": "code",
   "execution_count": 34,
   "metadata": {},
   "outputs": [
    {
     "data": {
      "text/plain": [
       "30344"
      ]
     },
     "execution_count": 34,
     "metadata": {},
     "output_type": "execute_result"
    }
   ],
   "source": [
    "len(df)"
   ]
  },
  {
   "cell_type": "code",
   "execution_count": 35,
   "metadata": {},
   "outputs": [
    {
     "data": {
      "text/html": [
       "<div>\n",
       "<style scoped>\n",
       "    .dataframe tbody tr th:only-of-type {\n",
       "        vertical-align: middle;\n",
       "    }\n",
       "\n",
       "    .dataframe tbody tr th {\n",
       "        vertical-align: top;\n",
       "    }\n",
       "\n",
       "    .dataframe thead th {\n",
       "        text-align: right;\n",
       "    }\n",
       "</style>\n",
       "<table border=\"1\" class=\"dataframe\">\n",
       "  <thead>\n",
       "    <tr style=\"text-align: right;\">\n",
       "      <th></th>\n",
       "      <th>Subject</th>\n",
       "      <th>Message</th>\n",
       "      <th>Spam/Ham</th>\n",
       "    </tr>\n",
       "  </thead>\n",
       "  <tbody>\n",
       "    <tr>\n",
       "      <th>0</th>\n",
       "      <td>transfers from ees</td>\n",
       "      <td>attached is the latest version of the cost cen...</td>\n",
       "      <td>spam</td>\n",
       "    </tr>\n",
       "    <tr>\n",
       "      <th>1</th>\n",
       "      <td>fw : re ivanhoe e . s . d</td>\n",
       "      <td>fyi , kim .\\n- - - - - original message - - - ...</td>\n",
       "      <td>spam</td>\n",
       "    </tr>\n",
       "    <tr>\n",
       "      <th>2</th>\n",
       "      <td>re : enerfin meter 980439 for 10 / 00</td>\n",
       "      <td>it did but tetco prorated the flow between the...</td>\n",
       "      <td>ham</td>\n",
       "    </tr>\n",
       "    <tr>\n",
       "      <th>3</th>\n",
       "      <td>meoh plant status</td>\n",
       "      <td>the methanol plant has determined extensive re...</td>\n",
       "      <td>ham</td>\n",
       "    </tr>\n",
       "    <tr>\n",
       "      <th>4</th>\n",
       "      <td>re : tenaska iv</td>\n",
       "      <td>i tried calling you this am but your phone rol...</td>\n",
       "      <td>spam</td>\n",
       "    </tr>\n",
       "  </tbody>\n",
       "</table>\n",
       "</div>"
      ],
      "text/plain": [
       "                                 Subject  \\\n",
       "0                     transfers from ees   \n",
       "1              fw : re ivanhoe e . s . d   \n",
       "2  re : enerfin meter 980439 for 10 / 00   \n",
       "3                      meoh plant status   \n",
       "4                        re : tenaska iv   \n",
       "\n",
       "                                             Message Spam/Ham  \n",
       "0  attached is the latest version of the cost cen...     spam  \n",
       "1  fyi , kim .\\n- - - - - original message - - - ...     spam  \n",
       "2  it did but tetco prorated the flow between the...      ham  \n",
       "3  the methanol plant has determined extensive re...      ham  \n",
       "4  i tried calling you this am but your phone rol...     spam  "
      ]
     },
     "execution_count": 35,
     "metadata": {},
     "output_type": "execute_result"
    }
   ],
   "source": [
    "df.head()"
   ]
  },
  {
   "cell_type": "code",
   "execution_count": 36,
   "metadata": {},
   "outputs": [
    {
     "data": {
      "text/html": [
       "<div>\n",
       "<style scoped>\n",
       "    .dataframe tbody tr th:only-of-type {\n",
       "        vertical-align: middle;\n",
       "    }\n",
       "\n",
       "    .dataframe tbody tr th {\n",
       "        vertical-align: top;\n",
       "    }\n",
       "\n",
       "    .dataframe thead th {\n",
       "        text-align: right;\n",
       "    }\n",
       "</style>\n",
       "<table border=\"1\" class=\"dataframe\">\n",
       "  <thead>\n",
       "    <tr style=\"text-align: right;\">\n",
       "      <th></th>\n",
       "      <th>Subject</th>\n",
       "      <th>Message</th>\n",
       "      <th>Spam/Ham</th>\n",
       "    </tr>\n",
       "  </thead>\n",
       "  <tbody>\n",
       "    <tr>\n",
       "      <th>0</th>\n",
       "      <td>transfers from ees</td>\n",
       "      <td>attached is the latest version of the cost cen...</td>\n",
       "      <td>spam</td>\n",
       "    </tr>\n",
       "    <tr>\n",
       "      <th>1</th>\n",
       "      <td>fw : re ivanhoe e . s . d</td>\n",
       "      <td>fyi , kim .\\n- - - - - original message - - - ...</td>\n",
       "      <td>spam</td>\n",
       "    </tr>\n",
       "    <tr>\n",
       "      <th>2</th>\n",
       "      <td>re : enerfin meter 980439 for 10 / 00</td>\n",
       "      <td>it did but tetco prorated the flow between the...</td>\n",
       "      <td>ham</td>\n",
       "    </tr>\n",
       "    <tr>\n",
       "      <th>3</th>\n",
       "      <td>meoh plant status</td>\n",
       "      <td>the methanol plant has determined extensive re...</td>\n",
       "      <td>ham</td>\n",
       "    </tr>\n",
       "    <tr>\n",
       "      <th>4</th>\n",
       "      <td>re : tenaska iv</td>\n",
       "      <td>i tried calling you this am but your phone rol...</td>\n",
       "      <td>spam</td>\n",
       "    </tr>\n",
       "  </tbody>\n",
       "</table>\n",
       "</div>"
      ],
      "text/plain": [
       "                                 Subject  \\\n",
       "0                     transfers from ees   \n",
       "1              fw : re ivanhoe e . s . d   \n",
       "2  re : enerfin meter 980439 for 10 / 00   \n",
       "3                      meoh plant status   \n",
       "4                        re : tenaska iv   \n",
       "\n",
       "                                             Message Spam/Ham  \n",
       "0  attached is the latest version of the cost cen...     spam  \n",
       "1  fyi , kim .\\n- - - - - original message - - - ...     spam  \n",
       "2  it did but tetco prorated the flow between the...      ham  \n",
       "3  the methanol plant has determined extensive re...      ham  \n",
       "4  i tried calling you this am but your phone rol...     spam  "
      ]
     },
     "execution_count": 36,
     "metadata": {},
     "output_type": "execute_result"
    }
   ],
   "source": [
    "df.head()"
   ]
  },
  {
   "cell_type": "markdown",
   "metadata": {},
   "source": [
    "Now we have list of texts, that encoded binary. Using 'decode' is one of possible solutions, but some texts don't allow us to apply decoding. This can be solved by deleting these texts, but because of this, we can lose important information. Instead of this we can do following:\n",
    "\n",
    "* We should remove all special symbols.\n",
    "* Remove 'b' in beginning of each text\n",
    "* Replace all gaps (\\t, \\n, \\r, \\f) between words with spaces\n",
    "* Remove all non-letters characters"
   ]
  },
  {
   "cell_type": "markdown",
   "metadata": {},
   "source": [
    "Trying Naive Bayes model as the likelihood of whether an email is spam or ham is an aposterior probability and they usually show high performance in spam detection."
   ]
  },
  {
   "cell_type": "code",
   "execution_count": 37,
   "metadata": {},
   "outputs": [],
   "source": [
    "from sklearn.naive_bayes import MultinomialNB\n",
    "from sklearn.metrics import accuracy_score, precision_score, recall_score, confusion_matrix\n",
    "from sklearn.model_selection import train_test_split\n",
    "from sklearn.feature_extraction.text import TfidfVectorizer, CountVectorizer\n",
    "\n",
    "from sklearn.feature_extraction.text import HashingVectorizer\n",
    "\n",
    "model = MultinomialNB()\n",
    "\n",
    "#tf = TfidfVectorizer()\n",
    "hvec = HashingVectorizer(n_features=2**9,alternate_sign=False) #***change this logically***\n",
    "\n",
    "def preProcess(X):\n",
    "    stemmer = PorterStemmer()\n",
    "    lemmatizer = WordNetLemmatizer()\n",
    "    corpus = []\n",
    "    for i in tqdm(range(0, len(X))):\n",
    "        # Remove special symbols\n",
    "        review = re.sub(r'\\\\r\\\\n', ' ', str(X[i]))\n",
    "        # Remove all symbols except letters\n",
    "        review = re.sub('[^a-zA-Z]', ' ', review)\n",
    "        # Replacing all gaps with spaces \n",
    "        review = re.sub(r'\\s+', ' ', review)                    \n",
    "        # Remove 'b' in the beginning of each text\n",
    "        review = re.sub(r'^b\\s+', '', review)       \n",
    "\n",
    "        review = review.lower().split()\n",
    "        review = [stemmer.stem(word) for word in review if word not in stopwords.words('english')]\n",
    "        review = ' '.join(review)\n",
    "        corpus.append(review)\n",
    "    \n",
    "    # Creating the Bag of Words model\n",
    "    # cv = CountVectorizer() # Should this be global?\n",
    "    #X = cv.fit_transform(corpus).toarray()\n",
    "    # return cv.fit_transform(corpus).toarray()\n",
    "    X = hvec.fit_transform(corpus)\n",
    "    print(X)\n",
    "    return X.toarray()\n",
    "\n",
    "def trainBatch(X, y):\n",
    "    X = preProcess(X)\n",
    "\n",
    "    # Splitting data on train and test dataset\n",
    "    X_train, X_test, y_train, y_test = train_test_split(X, y,  random_state=9, test_size=0.2)\n",
    "    \n",
    "    global model\n",
    "    model = model.partial_fit(X_train, y_train, np.unique(y))\n",
    "    pred = model.predict(X_test)\n",
    "\n",
    "    accuracy = accuracy_score(y_test, pred)\n",
    "    precision = precision_score(y_test, pred, pos_label = 'spam')\n",
    "    recall = recall_score(y_test, pred, pos_label = 'spam')\n",
    "    conf_m = confusion_matrix(y_test, pred)\n",
    "\n",
    "    print(f\"accuracy: %.3f\" %accuracy)\n",
    "    print(f\"precision: %.3f\" %precision)\n",
    "    print(f\"recall: %.3f\" %recall)\n",
    "    print(f\"confusion matrix: \")\n",
    "    print(conf_m)\n",
    "\n",
    "    return accuracy, precision, recall\n"
   ]
  },
  {
   "cell_type": "markdown",
   "metadata": {},
   "source": [
    "```\n",
    "accuracy: 0.979\n",
    "precision: 0.962\n",
    "recall: 1.000\n",
    "confusion matrix: \n",
    "[[452  21]\n",
    " [  0 527]]\n",
    "```"
   ]
  },
  {
   "cell_type": "code",
   "execution_count": 38,
   "metadata": {},
   "outputs": [],
   "source": [
    "def makeBatch(df, batchSize = 500):\n",
    "    for i in range(len(df)//500):\n",
    "        X, y = df['Message'][i:i + batchSize + 1], df['Spam/Ham'][i:i + batchSize + 1]\n",
    "        X.index = range(batchSize + 1)\n",
    "        y.index = range(batchSize + 1)\n",
    "        yield X, y"
   ]
  },
  {
   "cell_type": "code",
   "execution_count": 39,
   "metadata": {},
   "outputs": [
    {
     "data": {
      "text/plain": [
       "0      attached is the latest version of the cost cen...\n",
       "1      fyi , kim .\\n- - - - - original message - - - ...\n",
       "2      it did but tetco prorated the flow between the...\n",
       "3      the methanol plant has determined extensive re...\n",
       "4      i tried calling you this am but your phone rol...\n",
       "                             ...                        \n",
       "295    fyi , kim .\\n- - - - - original message - - - ...\n",
       "296    fyi , kim .\\n- - - - - original message - - - ...\n",
       "297    mark ,\\nfirst let me say thank you for your as...\n",
       "298    start date : 12 / 17 / 01 ; hourahead hour : 1...\n",
       "299    yesterday we sold to santa clara ( silicon val...\n",
       "Name: Message, Length: 300, dtype: object"
      ]
     },
     "execution_count": 39,
     "metadata": {},
     "output_type": "execute_result"
    }
   ],
   "source": [
    "df[\"Message\"][0:300]"
   ]
  },
  {
   "cell_type": "code",
   "execution_count": 40,
   "metadata": {},
   "outputs": [
    {
     "data": {
      "text/plain": [
       "0      spam\n",
       "1      spam\n",
       "2       ham\n",
       "3       ham\n",
       "4      spam\n",
       "       ... \n",
       "295    spam\n",
       "296    spam\n",
       "297     ham\n",
       "298     ham\n",
       "299     ham\n",
       "Name: Spam/Ham, Length: 300, dtype: object"
      ]
     },
     "execution_count": 40,
     "metadata": {},
     "output_type": "execute_result"
    }
   ],
   "source": [
    "df['Spam/Ham'][0:300]"
   ]
  },
  {
   "cell_type": "code",
   "execution_count": 41,
   "metadata": {},
   "outputs": [],
   "source": [
    "batch = makeBatch(df)"
   ]
  },
  {
   "cell_type": "code",
   "execution_count": 42,
   "metadata": {},
   "outputs": [
    {
     "data": {
      "text/plain": [
       "pandas.core.series.Series"
      ]
     },
     "execution_count": 42,
     "metadata": {},
     "output_type": "execute_result"
    }
   ],
   "source": [
    "type(next(batch)[0])"
   ]
  },
  {
   "cell_type": "code",
   "execution_count": 43,
   "metadata": {},
   "outputs": [],
   "source": [
    "NBatches = 5"
   ]
  },
  {
   "cell_type": "code",
   "execution_count": 44,
   "metadata": {},
   "outputs": [
    {
     "name": "stdout",
     "output_type": "stream",
     "text": [
      "0      fyi , kim .\\n- - - - - original message - - - ...\n",
      "1      it did but tetco prorated the flow between the...\n",
      "2      the methanol plant has determined extensive re...\n",
      "3      i tried calling you this am but your phone rol...\n",
      "4      fyi , kim .\\n- - - - - original message - - - ...\n",
      "                             ...                        \n",
      "496    louise ,\\nthanks so much for your speedy reply...\n",
      "497    michelle :\\nok we are all set up . we are goin...\n",
      "498    fyi , see terry ' s note\\n- - - - - - - - - - ...\n",
      "499    the enron building is being evacuated . howeve...\n",
      "500    attached is the latest version of the cost cen...\n",
      "Name: Message, Length: 501, dtype: object\n",
      "0      spam\n",
      "1       ham\n",
      "2       ham\n",
      "3      spam\n",
      "4      spam\n",
      "       ... \n",
      "496    spam\n",
      "497     ham\n",
      "498     ham\n",
      "499     ham\n",
      "500    spam\n",
      "Name: Spam/Ham, Length: 501, dtype: object\n"
     ]
    }
   ],
   "source": [
    "def tester(X,y):\n",
    "    print(X)\n",
    "    print(y)\n",
    "\n",
    "tester(*next(batch))"
   ]
  },
  {
   "cell_type": "code",
   "execution_count": 45,
   "metadata": {},
   "outputs": [
    {
     "name": "stdout",
     "output_type": "stream",
     "text": [
      "------------------------ Batch 1 ------------------------\n",
      "*********\n",
      "(501,)\n",
      "4512 360 2284\n",
      "(501,)\n",
      "*********\n"
     ]
    },
    {
     "data": {
      "application/vnd.jupyter.widget-view+json": {
       "model_id": "1563f065fea548c3bcd3aea0ab2beeb6",
       "version_major": 2,
       "version_minor": 0
      },
      "text/plain": [
       "  0%|          | 0/501 [00:00<?, ?it/s]"
      ]
     },
     "metadata": {},
     "output_type": "display_data"
    },
    {
     "name": "stdout",
     "output_type": "stream",
     "text": [
      "  (0, 0)\t0.02876879013347354\n",
      "  (0, 1)\t0.01438439506673677\n",
      "  (0, 4)\t0.01438439506673677\n",
      "  (0, 13)\t0.12945955560063094\n",
      "  (0, 16)\t0.01438439506673677\n",
      "  (0, 23)\t0.02876879013347354\n",
      "  (0, 25)\t0.1438439506673677\n",
      "  (0, 27)\t0.02876879013347354\n",
      "  (0, 31)\t0.07192197533368384\n",
      "  (0, 42)\t0.01438439506673677\n",
      "  (0, 48)\t0.11507516053389416\n",
      "  (0, 53)\t0.01438439506673677\n",
      "  (0, 60)\t0.01438439506673677\n",
      "  (0, 63)\t0.01438439506673677\n",
      "  (0, 72)\t0.01438439506673677\n",
      "  (0, 74)\t0.02876879013347354\n",
      "  (0, 83)\t0.01438439506673677\n",
      "  (0, 89)\t0.01438439506673677\n",
      "  (0, 92)\t0.01438439506673677\n",
      "  (0, 97)\t0.01438439506673677\n",
      "  (0, 102)\t0.02876879013347354\n",
      "  (0, 106)\t0.01438439506673677\n",
      "  (0, 109)\t0.01438439506673677\n",
      "  (0, 115)\t0.15822834573410446\n",
      "  (0, 122)\t0.01438439506673677\n",
      "  :\t:\n",
      "  (500, 257)\t0.17213259316477408\n",
      "  (500, 272)\t0.08606629658238704\n",
      "  (500, 273)\t0.08606629658238704\n",
      "  (500, 279)\t0.34426518632954817\n",
      "  (500, 294)\t0.08606629658238704\n",
      "  (500, 297)\t0.08606629658238704\n",
      "  (500, 300)\t0.08606629658238704\n",
      "  (500, 308)\t0.08606629658238704\n",
      "  (500, 328)\t0.08606629658238704\n",
      "  (500, 337)\t0.08606629658238704\n",
      "  (500, 349)\t0.08606629658238704\n",
      "  (500, 358)\t0.43033148291193524\n",
      "  (500, 364)\t0.08606629658238704\n",
      "  (500, 385)\t0.08606629658238704\n",
      "  (500, 402)\t0.08606629658238704\n",
      "  (500, 418)\t0.17213259316477408\n",
      "  (500, 419)\t0.08606629658238704\n",
      "  (500, 428)\t0.08606629658238704\n",
      "  (500, 431)\t0.08606629658238704\n",
      "  (500, 435)\t0.08606629658238704\n",
      "  (500, 444)\t0.08606629658238704\n",
      "  (500, 446)\t0.08606629658238704\n",
      "  (500, 448)\t0.17213259316477408\n",
      "  (500, 487)\t0.17213259316477408\n",
      "  (500, 509)\t0.08606629658238704\n",
      "accuracy: 0.891\n",
      "precision: 0.959\n",
      "recall: 0.839\n",
      "confusion matrix: \n",
      "[[43  2]\n",
      " [ 9 47]]\n",
      "---------------------------------------------------------\n",
      "------------------------ Batch 2 ------------------------\n",
      "*********\n",
      "(501,)\n",
      "360 2284 1180\n",
      "(501,)\n",
      "*********\n"
     ]
    },
    {
     "data": {
      "application/vnd.jupyter.widget-view+json": {
       "model_id": "abb1599de8da4bf3aeac2814e73fca0e",
       "version_major": 2,
       "version_minor": 0
      },
      "text/plain": [
       "  0%|          | 0/501 [00:00<?, ?it/s]"
      ]
     },
     "metadata": {},
     "output_type": "display_data"
    },
    {
     "name": "stdout",
     "output_type": "stream",
     "text": [
      "  (0, 13)\t0.16666666666666666\n",
      "  (0, 20)\t0.16666666666666666\n",
      "  (0, 29)\t0.16666666666666666\n",
      "  (0, 32)\t0.16666666666666666\n",
      "  (0, 44)\t0.16666666666666666\n",
      "  (0, 81)\t0.16666666666666666\n",
      "  (0, 92)\t0.16666666666666666\n",
      "  (0, 98)\t0.16666666666666666\n",
      "  (0, 106)\t0.16666666666666666\n",
      "  (0, 107)\t0.16666666666666666\n",
      "  (0, 108)\t0.3333333333333333\n",
      "  (0, 145)\t0.16666666666666666\n",
      "  (0, 253)\t0.16666666666666666\n",
      "  (0, 259)\t0.16666666666666666\n",
      "  (0, 273)\t0.16666666666666666\n",
      "  (0, 279)\t0.16666666666666666\n",
      "  (0, 294)\t0.16666666666666666\n",
      "  (0, 310)\t0.5\n",
      "  (0, 361)\t0.16666666666666666\n",
      "  (0, 366)\t0.16666666666666666\n",
      "  (0, 371)\t0.16666666666666666\n",
      "  (0, 385)\t0.16666666666666666\n",
      "  (0, 393)\t0.16666666666666666\n",
      "  (0, 410)\t0.16666666666666666\n",
      "  (0, 477)\t0.16666666666666666\n",
      "  :\t:\n",
      "  (500, 363)\t0.060302268915552716\n",
      "  (500, 368)\t0.060302268915552716\n",
      "  (500, 369)\t0.18090680674665816\n",
      "  (500, 370)\t0.060302268915552716\n",
      "  (500, 371)\t0.060302268915552716\n",
      "  (500, 374)\t0.18090680674665816\n",
      "  (500, 375)\t0.12060453783110543\n",
      "  (500, 386)\t0.060302268915552716\n",
      "  (500, 407)\t0.060302268915552716\n",
      "  (500, 412)\t0.060302268915552716\n",
      "  (500, 427)\t0.060302268915552716\n",
      "  (500, 440)\t0.12060453783110543\n",
      "  (500, 444)\t0.060302268915552716\n",
      "  (500, 452)\t0.060302268915552716\n",
      "  (500, 454)\t0.060302268915552716\n",
      "  (500, 471)\t0.12060453783110543\n",
      "  (500, 472)\t0.060302268915552716\n",
      "  (500, 475)\t0.12060453783110543\n",
      "  (500, 478)\t0.060302268915552716\n",
      "  (500, 479)\t0.060302268915552716\n",
      "  (500, 481)\t0.060302268915552716\n",
      "  (500, 488)\t0.12060453783110543\n",
      "  (500, 491)\t0.060302268915552716\n",
      "  (500, 492)\t0.060302268915552716\n",
      "  (500, 504)\t0.060302268915552716\n",
      "accuracy: 0.970\n",
      "precision: 0.942\n",
      "recall: 1.000\n",
      "confusion matrix: \n",
      "[[49  3]\n",
      " [ 0 49]]\n",
      "---------------------------------------------------------\n",
      "------------------------ Batch 3 ------------------------\n",
      "*********\n",
      "(501,)\n",
      "2284 1180 1674\n",
      "(501,)\n",
      "*********\n"
     ]
    },
    {
     "data": {
      "application/vnd.jupyter.widget-view+json": {
       "model_id": "9fca166cedde43bbaa20f9c2922b3319",
       "version_major": 2,
       "version_minor": 0
      },
      "text/plain": [
       "  0%|          | 0/501 [00:00<?, ?it/s]"
      ]
     },
     "metadata": {},
     "output_type": "display_data"
    },
    {
     "name": "stdout",
     "output_type": "stream",
     "text": [
      "  (0, 0)\t0.043314808182421\n",
      "  (0, 5)\t0.129944424547263\n",
      "  (0, 6)\t0.043314808182421\n",
      "  (0, 9)\t0.043314808182421\n",
      "  (0, 23)\t0.043314808182421\n",
      "  (0, 27)\t0.086629616364842\n",
      "  (0, 28)\t0.086629616364842\n",
      "  (0, 31)\t0.086629616364842\n",
      "  (0, 34)\t0.043314808182421\n",
      "  (0, 37)\t0.043314808182421\n",
      "  (0, 38)\t0.043314808182421\n",
      "  (0, 47)\t0.086629616364842\n",
      "  (0, 50)\t0.043314808182421\n",
      "  (0, 52)\t0.043314808182421\n",
      "  (0, 53)\t0.043314808182421\n",
      "  (0, 57)\t0.043314808182421\n",
      "  (0, 58)\t0.129944424547263\n",
      "  (0, 63)\t0.043314808182421\n",
      "  (0, 65)\t0.043314808182421\n",
      "  (0, 66)\t0.043314808182421\n",
      "  (0, 82)\t0.086629616364842\n",
      "  (0, 83)\t0.043314808182421\n",
      "  (0, 84)\t0.086629616364842\n",
      "  (0, 91)\t0.043314808182421\n",
      "  (0, 104)\t0.043314808182421\n",
      "  :\t:\n",
      "  (500, 335)\t0.045501575519329006\n",
      "  (500, 344)\t0.09100315103865801\n",
      "  (500, 353)\t0.09100315103865801\n",
      "  (500, 355)\t0.273009453115974\n",
      "  (500, 358)\t0.09100315103865801\n",
      "  (500, 359)\t0.045501575519329006\n",
      "  (500, 369)\t0.31851102863530306\n",
      "  (500, 380)\t0.09100315103865801\n",
      "  (500, 403)\t0.045501575519329006\n",
      "  (500, 411)\t0.045501575519329006\n",
      "  (500, 419)\t0.045501575519329006\n",
      "  (500, 436)\t0.136504726557987\n",
      "  (500, 437)\t0.045501575519329006\n",
      "  (500, 439)\t0.09100315103865801\n",
      "  (500, 440)\t0.045501575519329006\n",
      "  (500, 464)\t0.045501575519329006\n",
      "  (500, 476)\t0.045501575519329006\n",
      "  (500, 481)\t0.045501575519329006\n",
      "  (500, 495)\t0.045501575519329006\n",
      "  (500, 498)\t0.18200630207731602\n",
      "  (500, 500)\t0.09100315103865801\n",
      "  (500, 501)\t0.045501575519329006\n",
      "  (500, 502)\t0.045501575519329006\n",
      "  (500, 504)\t0.045501575519329006\n",
      "  (500, 509)\t0.045501575519329006\n",
      "accuracy: 1.000\n",
      "precision: 1.000\n",
      "recall: 1.000\n",
      "confusion matrix: \n",
      "[[47  0]\n",
      " [ 0 54]]\n",
      "---------------------------------------------------------\n",
      "------------------------ Batch 4 ------------------------\n",
      "*********\n",
      "(501,)\n",
      "1180 1674 87957\n",
      "(501,)\n",
      "*********\n"
     ]
    },
    {
     "data": {
      "application/vnd.jupyter.widget-view+json": {
       "model_id": "b286d48a4dc94a0ba58817af437120ee",
       "version_major": 2,
       "version_minor": 0
      },
      "text/plain": [
       "  0%|          | 0/501 [00:00<?, ?it/s]"
      ]
     },
     "metadata": {},
     "output_type": "display_data"
    },
    {
     "name": "stdout",
     "output_type": "stream",
     "text": [
      "  (0, 4)\t0.07273929674533079\n",
      "  (0, 13)\t0.14547859349066158\n",
      "  (0, 24)\t0.07273929674533079\n",
      "  (0, 25)\t0.07273929674533079\n",
      "  (0, 26)\t0.07273929674533079\n",
      "  (0, 37)\t0.07273929674533079\n",
      "  (0, 40)\t0.14547859349066158\n",
      "  (0, 46)\t0.07273929674533079\n",
      "  (0, 51)\t0.29095718698132317\n",
      "  (0, 59)\t0.07273929674533079\n",
      "  (0, 60)\t0.07273929674533079\n",
      "  (0, 63)\t0.21821789023599236\n",
      "  (0, 75)\t0.07273929674533079\n",
      "  (0, 78)\t0.14547859349066158\n",
      "  (0, 79)\t0.14547859349066158\n",
      "  (0, 91)\t0.07273929674533079\n",
      "  (0, 99)\t0.07273929674533079\n",
      "  (0, 100)\t0.21821789023599236\n",
      "  (0, 102)\t0.07273929674533079\n",
      "  (0, 127)\t0.07273929674533079\n",
      "  (0, 130)\t0.07273929674533079\n",
      "  (0, 141)\t0.14547859349066158\n",
      "  (0, 163)\t0.07273929674533079\n",
      "  (0, 166)\t0.14547859349066158\n",
      "  (0, 176)\t0.07273929674533079\n",
      "  :\t:\n",
      "  (500, 279)\t0.09205746178983235\n",
      "  (500, 283)\t0.1841149235796647\n",
      "  (500, 292)\t0.09205746178983235\n",
      "  (500, 304)\t0.09205746178983235\n",
      "  (500, 307)\t0.09205746178983235\n",
      "  (500, 309)\t0.09205746178983235\n",
      "  (500, 318)\t0.09205746178983235\n",
      "  (500, 324)\t0.09205746178983235\n",
      "  (500, 342)\t0.09205746178983235\n",
      "  (500, 368)\t0.09205746178983235\n",
      "  (500, 373)\t0.09205746178983235\n",
      "  (500, 405)\t0.09205746178983235\n",
      "  (500, 411)\t0.09205746178983235\n",
      "  (500, 413)\t0.09205746178983235\n",
      "  (500, 417)\t0.1841149235796647\n",
      "  (500, 431)\t0.09205746178983235\n",
      "  (500, 433)\t0.09205746178983235\n",
      "  (500, 449)\t0.09205746178983235\n",
      "  (500, 454)\t0.276172385369497\n",
      "  (500, 471)\t0.09205746178983235\n",
      "  (500, 489)\t0.09205746178983235\n",
      "  (500, 493)\t0.552344770738994\n",
      "  (500, 499)\t0.09205746178983235\n",
      "  (500, 504)\t0.09205746178983235\n",
      "  (500, 510)\t0.09205746178983235\n",
      "accuracy: 0.970\n",
      "precision: 0.950\n",
      "recall: 1.000\n",
      "confusion matrix: \n",
      "[[41  3]\n",
      " [ 0 57]]\n",
      "---------------------------------------------------------\n",
      "------------------------ Batch 5 ------------------------\n",
      "*********\n",
      "(501,)\n",
      "1674 87957 868\n",
      "(501,)\n",
      "*********\n"
     ]
    },
    {
     "data": {
      "application/vnd.jupyter.widget-view+json": {
       "model_id": "e1c68328f7304451a0046a4d45711255",
       "version_major": 2,
       "version_minor": 0
      },
      "text/plain": [
       "  0%|          | 0/501 [00:00<?, ?it/s]"
      ]
     },
     "metadata": {},
     "output_type": "display_data"
    },
    {
     "name": "stdout",
     "output_type": "stream",
     "text": [
      "  (0, 0)\t0.060302268915552716\n",
      "  (0, 6)\t0.060302268915552716\n",
      "  (0, 9)\t0.060302268915552716\n",
      "  (0, 18)\t0.060302268915552716\n",
      "  (0, 20)\t0.060302268915552716\n",
      "  (0, 24)\t0.24120907566221086\n",
      "  (0, 27)\t0.060302268915552716\n",
      "  (0, 32)\t0.060302268915552716\n",
      "  (0, 37)\t0.060302268915552716\n",
      "  (0, 38)\t0.060302268915552716\n",
      "  (0, 43)\t0.060302268915552716\n",
      "  (0, 44)\t0.060302268915552716\n",
      "  (0, 46)\t0.12060453783110543\n",
      "  (0, 52)\t0.18090680674665816\n",
      "  (0, 54)\t0.060302268915552716\n",
      "  (0, 55)\t0.060302268915552716\n",
      "  (0, 63)\t0.3015113445777636\n",
      "  (0, 65)\t0.060302268915552716\n",
      "  (0, 72)\t0.060302268915552716\n",
      "  (0, 75)\t0.060302268915552716\n",
      "  (0, 83)\t0.18090680674665816\n",
      "  (0, 88)\t0.12060453783110543\n",
      "  (0, 91)\t0.060302268915552716\n",
      "  (0, 98)\t0.060302268915552716\n",
      "  (0, 100)\t0.12060453783110543\n",
      "  :\t:\n",
      "  (500, 187)\t0.07273929674533079\n",
      "  (500, 197)\t0.14547859349066158\n",
      "  (500, 213)\t0.07273929674533079\n",
      "  (500, 222)\t0.07273929674533079\n",
      "  (500, 254)\t0.07273929674533079\n",
      "  (500, 265)\t0.4364357804719847\n",
      "  (500, 297)\t0.07273929674533079\n",
      "  (500, 306)\t0.07273929674533079\n",
      "  (500, 308)\t0.14547859349066158\n",
      "  (500, 318)\t0.14547859349066158\n",
      "  (500, 320)\t0.07273929674533079\n",
      "  (500, 358)\t0.21821789023599236\n",
      "  (500, 370)\t0.21821789023599236\n",
      "  (500, 372)\t0.07273929674533079\n",
      "  (500, 397)\t0.14547859349066158\n",
      "  (500, 399)\t0.14547859349066158\n",
      "  (500, 401)\t0.14547859349066158\n",
      "  (500, 409)\t0.14547859349066158\n",
      "  (500, 428)\t0.07273929674533079\n",
      "  (500, 442)\t0.14547859349066158\n",
      "  (500, 481)\t0.29095718698132317\n",
      "  (500, 482)\t0.07273929674533079\n",
      "  (500, 485)\t0.07273929674533079\n",
      "  (500, 487)\t0.07273929674533079\n",
      "  (500, 502)\t0.07273929674533079\n",
      "accuracy: 0.980\n",
      "precision: 0.965\n",
      "recall: 1.000\n",
      "confusion matrix: \n",
      "[[44  2]\n",
      " [ 0 55]]\n",
      "---------------------------------------------------------\n"
     ]
    }
   ],
   "source": [
    "metrics = ('accuracy', 'precision', 'recall')\n",
    "history = {metric : [] for metric in metrics}\n",
    "for batchNum in range(NBatches):\n",
    "    print(f\"------------------------ Batch {batchNum + 1} ------------------------\")\n",
    "\n",
    "    print(\"*********\")\n",
    "    X,y = next(batch)\n",
    "    print(X.shape)\n",
    "    print(len(X[0]),len(X[1]),len(X[2]))\n",
    "    print(y.shape)\n",
    "    print(\"*********\")\n",
    "\n",
    "    scores = trainBatch(X,y)\n",
    "    for i in range(len(metrics)):\n",
    "        history[metrics[i]].append(scores[i])\n",
    "    print(\"---------------------------------------------------------\")"
   ]
  },
  {
   "cell_type": "code",
   "execution_count": 47,
   "metadata": {},
   "outputs": [
    {
     "data": {
      "image/png": "[encoded data removed]",
      "text/plain": [
       "<Figure size 432x288 with 1 Axes>"
      ]
     },
     "metadata": {
      "needs_background": "light"
     },
     "output_type": "display_data"
    }
   ],
   "source": [
    "import matplotlib.pyplot as plt\n",
    "for metric in metrics:\n",
    "    plt.plot(history[metric], label = metric)\n",
    "\n",
    "plt.legend()\n",
    "plt.grid()\n",
    "plt.ylabel('Metrics')\n",
    "plt.xlabel('Number of Batches')\n",
    "plt.title('Model performance over number of Batches used for training')\n",
    "plt.show()"
   ]
  },
  {
   "cell_type": "code",
   "execution_count": null,
   "metadata": {},
   "outputs": [],
   "source": []
  }
 ],
 "metadata": {
  "interpreter": {
   "hash": "96287154c02bd33d964264908876ff144eece4cbcf76f7700a55934c72d2f956"
  },
  "kernelspec": {
   "display_name": "Python 3.9.5 64-bit ('base': conda)",
   "name": "python3"
  },
  "language_info": {
   "codemirror_mode": {
    "name": "ipython",
    "version": 3
   },
   "file_extension": ".py",
   "mimetype": "text/x-python",
   "name": "python",
   "nbconvert_exporter": "python",
   "pygments_lexer": "ipython3",
   "version": "3.8.10"
  },
  "orig_nbformat": 4
 },
 "nbformat": 4,
 "nbformat_minor": 2
}
